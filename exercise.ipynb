{
 "cells": [
  {
   "cell_type": "markdown",
   "id": "94ee2f61",
   "metadata": {},
   "source": [
    "# find frequencies in string"
   ]
  },
  {
   "cell_type": "code",
   "execution_count": 3,
   "id": "554d8df1",
   "metadata": {},
   "outputs": [
    {
     "name": "stdout",
     "output_type": "stream",
     "text": [
      "{'v': 1, 'i': 1, 'j': 1, 'a': 3, 'y': 1, 'n': 2, 'd': 1}\n"
     ]
    }
   ],
   "source": [
    "a = \"vijayanand\"\n",
    "b = {}\n",
    "for i in a:\n",
    "    if i in b:\n",
    "        b[i] = b[i]+1\n",
    "    else:\n",
    "        b[i]=1\n",
    "    \n",
    "print(b)"
   ]
  },
  {
   "cell_type": "markdown",
   "id": "7e48bb07",
   "metadata": {},
   "source": [
    "# Add two numbers"
   ]
  },
  {
   "cell_type": "code",
   "execution_count": 45,
   "id": "84d9b130",
   "metadata": {},
   "outputs": [
    {
     "name": "stdout",
     "output_type": "stream",
     "text": [
      "[8, 3, 6, 0, 9]\n"
     ]
    }
   ],
   "source": [
    "c = [3,5,3,5,2]\n",
    "d = [5,8,2,5,6]\n",
    "e = len(c)\n",
    "f = []\n",
    "j = 0\n",
    "for i in range(e):\n",
    "    g = c[i]+d[i]\n",
    "    h = g%10\n",
    "    f.append(h+j)\n",
    "    j = g//10\n",
    "print(f)\n",
    "    "
   ]
  },
  {
   "cell_type": "code",
   "execution_count": 5,
   "id": "f9aac288",
   "metadata": {},
   "outputs": [
    {
     "data": {
      "text/plain": [
       "0"
      ]
     },
     "execution_count": 5,
     "metadata": {},
     "output_type": "execute_result"
    }
   ],
   "source": [
    "8//10"
   ]
  },
  {
   "cell_type": "markdown",
   "id": "6aabb4fb",
   "metadata": {},
   "source": [
    "# find the biggest number "
   ]
  },
  {
   "cell_type": "code",
   "execution_count": 6,
   "id": "19202cc3",
   "metadata": {},
   "outputs": [
    {
     "name": "stdout",
     "output_type": "stream",
     "text": [
      "9\n"
     ]
    }
   ],
   "source": [
    "a = [2,4,5,3,7,9]\n",
    "b = a[0]\n",
    "for i in range(1,len(a)):\n",
    "    if a[i]>b:\n",
    "        b = a[i]\n",
    "print(b)\n",
    "    "
   ]
  },
  {
   "cell_type": "markdown",
   "id": "748ed407",
   "metadata": {},
   "source": [
    "# Prime Number"
   ]
  },
  {
   "cell_type": "code",
   "execution_count": 7,
   "id": "1af9194c",
   "metadata": {},
   "outputs": [
    {
     "name": "stdout",
     "output_type": "stream",
     "text": [
      "Enter the Number :28\n",
      "not prime\n"
     ]
    }
   ],
   "source": [
    "a = int(input(\"Enter the Number :\"))\n",
    "for i in range(2,a):\n",
    "    if a%i==0:\n",
    "        print(\"not prime\")\n",
    "        break\n",
    "else:\n",
    "    \n",
    "    print(\"this is prime\")"
   ]
  },
  {
   "cell_type": "markdown",
   "id": "49044bb2",
   "metadata": {},
   "source": [
    "# factorial"
   ]
  },
  {
   "cell_type": "code",
   "execution_count": 66,
   "id": "d77e0d44",
   "metadata": {},
   "outputs": [
    {
     "name": "stdout",
     "output_type": "stream",
     "text": [
      "enter the no. :7\n",
      "the facotorial of 7 is 5040\n"
     ]
    }
   ],
   "source": [
    "num = int(input(\"enter the no. :\"))\n",
    "fact = 1\n",
    "for i in range(1,num+1):\n",
    "    fact *= i\n",
    "print(\"the facotorial of\",num ,\"is\",fact)"
   ]
  },
  {
   "cell_type": "markdown",
   "id": "345d7373",
   "metadata": {},
   "source": [
    "# fibanocci series"
   ]
  },
  {
   "cell_type": "code",
   "execution_count": 3,
   "id": "63c721f3",
   "metadata": {},
   "outputs": [
    {
     "name": "stdout",
     "output_type": "stream",
     "text": [
      "enter the no. :7\n",
      "1\n",
      "1\n",
      "2\n",
      "3\n",
      "5\n",
      "8\n",
      "13\n"
     ]
    }
   ],
   "source": [
    "num = int(input(\"enter the no. :\"))\n",
    "a = 0\n",
    "b = 1\n",
    "count = 0\n",
    "while count <num:\n",
    "    c = a+b\n",
    "    a = b\n",
    "    b = c\n",
    "    count +=1\n",
    "    print(a)\n",
    "    "
   ]
  },
  {
   "cell_type": "markdown",
   "id": "d5c31250",
   "metadata": {},
   "source": [
    "# Armstrong Number"
   ]
  },
  {
   "cell_type": "code",
   "execution_count": 62,
   "id": "394cc02c",
   "metadata": {},
   "outputs": [
    {
     "name": "stdout",
     "output_type": "stream",
     "text": [
      "1634\n"
     ]
    }
   ],
   "source": [
    "a = 1634\n",
    "\n",
    "d = str(a)\n",
    "b = len(d)\n",
    "e = 0\n",
    "for i in range(b):\n",
    "    c = a%10\n",
    "    e += c**b\n",
    "    a = a//10\n",
    "print(e)\n",
    "    \n",
    "    \n",
    "    "
   ]
  },
  {
   "cell_type": "markdown",
   "id": "6068470c",
   "metadata": {},
   "source": [
    "# Remove duplicate"
   ]
  },
  {
   "cell_type": "code",
   "execution_count": 25,
   "id": "3b85e071",
   "metadata": {},
   "outputs": [
    {
     "name": "stdout",
     "output_type": "stream",
     "text": [
      "[1, 2, 3, 4]\n"
     ]
    }
   ],
   "source": [
    "a  = [1,1,2,2,3,3,4]\n",
    "b = []\n",
    "for i in a:\n",
    "    if i not in b:\n",
    "        b.append(i)\n",
    "print(b)"
   ]
  },
  {
   "cell_type": "markdown",
   "id": "17602802",
   "metadata": {},
   "source": [
    "# Two sum"
   ]
  },
  {
   "cell_type": "code",
   "execution_count": 2,
   "id": "bc35a1da",
   "metadata": {},
   "outputs": [
    {
     "name": "stdout",
     "output_type": "stream",
     "text": [
      "2 7\n",
      "4 5\n",
      "2\n"
     ]
    }
   ],
   "source": [
    "a = [2,4,5,1,7,9]\n",
    "tar = 9\n",
    "count = 0\n",
    "for i in range(len(a)-1):\n",
    "    for j in range(i+1,len(a)):\n",
    "        if a[i]+a[j]==tar:\n",
    "            print(a[i],a[j])\n",
    "            count +=1\n",
    "print(count)"
   ]
  },
  {
   "cell_type": "code",
   "execution_count": 12,
   "id": "7af4a23e",
   "metadata": {},
   "outputs": [
    {
     "name": "stdout",
     "output_type": "stream",
     "text": [
      "dict_keys(['v', 'i', 'j', 'a', 'y', 'n', 'd'])\n"
     ]
    }
   ],
   "source": [
    "a = \"vijayanand\"\n",
    "b= {}\n",
    "for i in a:\n",
    "    if i in b:\n",
    "        b[i] = b[i]+1\n",
    "    else:\n",
    "        b[i] = 1\n",
    "print(b.keys())"
   ]
  },
  {
   "cell_type": "code",
   "execution_count": 19,
   "id": "44c9daad",
   "metadata": {},
   "outputs": [
    {
     "name": "stdout",
     "output_type": "stream",
     "text": [
      "5\n",
      "0\n",
      "8\n"
     ]
    }
   ],
   "source": [
    "c = [3,8,4]\n",
    "d = [2,2,3]\n",
    "g = 0 \n",
    "for i in range(len(d)):\n",
    "    e = c[i]+d[i]\n",
    "    f = e%10\n",
    "    print(f+g)\n",
    "    g = e//10\n",
    "    \n",
    "    "
   ]
  },
  {
   "cell_type": "code",
   "execution_count": 25,
   "id": "50054fad",
   "metadata": {},
   "outputs": [
    {
     "name": "stdout",
     "output_type": "stream",
     "text": [
      "11\n"
     ]
    }
   ],
   "source": [
    "a = [3,5,4,11,6,7,1,9]\n",
    "j = 0\n",
    "for i in range(1,len(a)):\n",
    "    if a[i]> a[j]:\n",
    "        a[j]=a[i]\n",
    "print(a[j])\n"
   ]
  },
  {
   "cell_type": "code",
   "execution_count": 28,
   "id": "02604f65",
   "metadata": {},
   "outputs": [
    {
     "name": "stdout",
     "output_type": "stream",
     "text": [
      "not prime\n"
     ]
    }
   ],
   "source": [
    "a = 15\n",
    "for i in range(2,a):\n",
    "    if a%i ==0:\n",
    "        print(\"not prime\")\n",
    "        break\n",
    "else:\n",
    "        print(\"prime\")\n",
    "    "
   ]
  },
  {
   "cell_type": "code",
   "execution_count": 33,
   "id": "7d8eab12",
   "metadata": {},
   "outputs": [
    {
     "name": "stdout",
     "output_type": "stream",
     "text": [
      "5040\n"
     ]
    }
   ],
   "source": [
    "num = 7\n",
    "fact = 1\n",
    "for i in range(1,num+1):\n",
    "    fact*=i\n",
    "print(fact)\n",
    "    "
   ]
  },
  {
   "cell_type": "code",
   "execution_count": 37,
   "id": "bbb8a9bb",
   "metadata": {},
   "outputs": [
    {
     "name": "stdout",
     "output_type": "stream",
     "text": [
      "1\n",
      "1\n",
      "2\n",
      "3\n",
      "5\n",
      "8\n",
      "13\n",
      "21\n",
      "34\n"
     ]
    }
   ],
   "source": [
    "num = 9\n",
    "a=0\n",
    "b = 1\n",
    "for i in range(num):\n",
    "    c = a+b\n",
    "    a = b\n",
    "    b = c\n",
    "   \n",
    "    print(a)"
   ]
  },
  {
   "cell_type": "code",
   "execution_count": 43,
   "id": "4c2350bc",
   "metadata": {},
   "outputs": [
    {
     "name": "stdout",
     "output_type": "stream",
     "text": [
      "1634\n"
     ]
    }
   ],
   "source": [
    "a =1634 \n",
    "b = str(a)\n",
    "c = len(b)\n",
    "f = 0\n",
    "for i in range(c):\n",
    "    d = a%10\n",
    "    f += d**c\n",
    "    \n",
    "    a = a //10\n",
    "    \n",
    "print(e)\n",
    "    \n",
    "    "
   ]
  },
  {
   "cell_type": "code",
   "execution_count": 46,
   "id": "48a15b41",
   "metadata": {},
   "outputs": [
    {
     "name": "stdout",
     "output_type": "stream",
     "text": [
      "2 7\n",
      "4 5\n",
      "5 4\n",
      "3\n"
     ]
    }
   ],
   "source": [
    "a = [2,4,5,1,7,9]\n",
    "tar = 9\n",
    "count = 0\n",
    "for i in range(len(a)):\n",
    "    for j in range(1,len(a)):\n",
    "        if a[i]+a[j] ==tar:\n",
    "            count+=1\n",
    "            print(a[i],a[j])\n",
    "print(count)"
   ]
  },
  {
   "cell_type": "code",
   "execution_count": 6,
   "id": "c97d485f",
   "metadata": {},
   "outputs": [
    {
     "name": "stdout",
     "output_type": "stream",
     "text": [
      "2 7\n",
      "3 6\n",
      "5 4\n"
     ]
    }
   ],
   "source": [
    "a = [2,3,5,4,7,6]\n",
    "tar = 9\n",
    "for i in range(len(a)-1):\n",
    "    for j in range(i+1,len(a)):\n",
    "        if a[i]+a[j]==tar:\n",
    "            print(a[i],a[j])"
   ]
  },
  {
   "cell_type": "code",
   "execution_count": 7,
   "id": "bfdb8ad7",
   "metadata": {},
   "outputs": [
    {
     "data": {
      "text/plain": [
       "123"
      ]
     },
     "execution_count": 7,
     "metadata": {},
     "output_type": "execute_result"
    }
   ],
   "source": [
    "1234//10"
   ]
  },
  {
   "cell_type": "code",
   "execution_count": 8,
   "id": "a23cff8d",
   "metadata": {},
   "outputs": [
    {
     "data": {
      "text/plain": [
       "4"
      ]
     },
     "execution_count": 8,
     "metadata": {},
     "output_type": "execute_result"
    }
   ],
   "source": [
    "1234%10"
   ]
  },
  {
   "cell_type": "code",
   "execution_count": 2,
   "id": "91aa47de",
   "metadata": {},
   "outputs": [
    {
     "name": "stdout",
     "output_type": "stream",
     "text": [
      "kiwi\n"
     ]
    }
   ],
   "source": [
    "a = [\"apple\",\"banana\",\"kiwi\",\"orange\"]\n",
    "print(min(a,key=len))"
   ]
  },
  {
   "cell_type": "code",
   "execution_count": 3,
   "id": "c341f055",
   "metadata": {},
   "outputs": [
    {
     "data": {
      "text/plain": [
       "10"
      ]
     },
     "execution_count": 3,
     "metadata": {},
     "output_type": "execute_result"
    }
   ],
   "source": [
    "a = \"vijayanand\"\n",
    "len(a)"
   ]
  },
  {
   "cell_type": "code",
   "execution_count": 5,
   "id": "17d540a5",
   "metadata": {},
   "outputs": [
    {
     "data": {
      "text/plain": [
       "['vijayanand']"
      ]
     },
     "execution_count": 5,
     "metadata": {},
     "output_type": "execute_result"
    }
   ],
   "source": [
    "a.split()"
   ]
  },
  {
   "cell_type": "code",
   "execution_count": 42,
   "id": "c700b6e3",
   "metadata": {},
   "outputs": [
    {
     "name": "stdout",
     "output_type": "stream",
     "text": [
      "0\n",
      "1\n",
      "2\n",
      "3\n",
      "4\n"
     ]
    }
   ],
   "source": [
    "b = [2,3,5,4,7,6]\n",
    "tar = 9\n",
    "for i in range(len(b)-1):\n",
    "    print(i)\n",
    "    for j in range(i+1,len(b)):\n",
    "        print(j)\n",
    "        if b[i]+b[j]==tar:\n",
    "            print(b[i],b[j])"
   ]
  },
  {
   "cell_type": "code",
   "execution_count": 37,
   "id": "3c85d501",
   "metadata": {},
   "outputs": [
    {
     "data": {
      "text/plain": [
       "6"
      ]
     },
     "execution_count": 37,
     "metadata": {},
     "output_type": "execute_result"
    }
   ],
   "source": [
    "len(b)"
   ]
  },
  {
   "cell_type": "code",
   "execution_count": 9,
   "id": "df130ffa",
   "metadata": {},
   "outputs": [
    {
     "name": "stdout",
     "output_type": "stream",
     "text": [
      "[7, 0, 8]\n"
     ]
    }
   ],
   "source": [
    "a = [2,4,3]\n",
    "b = [5,6,4]\n",
    "l = len(a)\n",
    "d = 0\n",
    "f=[]\n",
    "for i in range(l):\n",
    "    c = a[i]+b[i]\n",
    "    g = c%10\n",
    "    f.append(g+d)\n",
    "    d = c//10\n",
    "print(f)"
   ]
  },
  {
   "cell_type": "code",
   "execution_count": 8,
   "id": "e374cabd",
   "metadata": {},
   "outputs": [
    {
     "data": {
      "text/plain": [
       "1"
      ]
     },
     "execution_count": 8,
     "metadata": {},
     "output_type": "execute_result"
    }
   ],
   "source": [
    "10//10"
   ]
  },
  {
   "cell_type": "code",
   "execution_count": 22,
   "id": "04a16e80",
   "metadata": {},
   "outputs": [
    {
     "name": "stdout",
     "output_type": "stream",
     "text": [
      "[1, 2, 4, 1, 3, 4]\n",
      "[1, 1, 2, 3, 4, 4]\n"
     ]
    }
   ],
   "source": [
    "list1 = [1,2,4]\n",
    "list2 = [1,3,4]\n",
    "list3 = list1 + list2\n",
    "print(list3)\n",
    "for i in range(len(list3)):\n",
    "    for j in range(len(list3)):\n",
    "        if list3[i]<list3[j]:\n",
    "            list3[i],list3[j]=list3[j],list3[i]\n",
    "print(list3)\n"
   ]
  },
  {
   "cell_type": "code",
   "execution_count": null,
   "id": "514ef859",
   "metadata": {},
   "outputs": [],
   "source": []
  }
 ],
 "metadata": {
  "kernelspec": {
   "display_name": "Python 3 (ipykernel)",
   "language": "python",
   "name": "python3"
  },
  "language_info": {
   "codemirror_mode": {
    "name": "ipython",
    "version": 3
   },
   "file_extension": ".py",
   "mimetype": "text/x-python",
   "name": "python",
   "nbconvert_exporter": "python",
   "pygments_lexer": "ipython3",
   "version": "3.9.13"
  }
 },
 "nbformat": 4,
 "nbformat_minor": 5
}
