{
 "cells": [
  {
   "cell_type": "markdown",
   "id": "4d9df09a",
   "metadata": {},
   "source": [
    "# Write a Python program to iterate over a dictionary and print the key-value pairs in sorted order by key."
   ]
  },
  {
   "cell_type": "code",
   "execution_count": 1,
   "id": "68ab54b0",
   "metadata": {},
   "outputs": [
    {
     "name": "stdout",
     "output_type": "stream",
     "text": [
      "{'apple': 10, 'banana': 5, 'grape': 3, 'orange': 20}\n"
     ]
    }
   ],
   "source": [
    "my_dict = {'apple': 10, 'banana': 5, 'orange': 20, 'grape': 3}\n",
    "sorted_dict = dict(sorted(my_dict.items(), key=lambda x: x[0]))\n",
    "print(sorted_dict)"
   ]
  },
  {
   "cell_type": "code",
   "execution_count": 7,
   "id": "84d4bbe5",
   "metadata": {},
   "outputs": [
    {
     "name": "stdout",
     "output_type": "stream",
     "text": [
      "{'grape': 3, 'banana': 5, 'apple': 10, 'orange': 20}\n"
     ]
    }
   ],
   "source": [
    "my_dict = {'apple': 10, 'banana': 5, 'orange': 20, 'grape': 3}\n",
    "sort = dict(sorted(my_dict.items(),key=lambda x :x[1]))\n",
    "print(sort)"
   ]
  },
  {
   "cell_type": "code",
   "execution_count": 9,
   "id": "7ad8ca45",
   "metadata": {},
   "outputs": [
    {
     "name": "stdout",
     "output_type": "stream",
     "text": [
      "apple\n",
      "banana\n",
      "orange\n",
      "grape\n"
     ]
    }
   ],
   "source": [
    "my_dict = {'apple': 10, 'banana': 5, 'orange': 20, 'grape': 3}\n",
    "for key,values in my_dict.items():\n",
    "    print(key)"
   ]
  },
  {
   "cell_type": "code",
   "execution_count": 11,
   "id": "fb795191",
   "metadata": {},
   "outputs": [
    {
     "data": {
      "text/plain": [
       "dict_keys(['apple', 'banana', 'orange', 'grape'])"
      ]
     },
     "execution_count": 11,
     "metadata": {},
     "output_type": "execute_result"
    }
   ],
   "source": [
    "my_dict.keys()"
   ]
  },
  {
   "cell_type": "code",
   "execution_count": 12,
   "id": "80976737",
   "metadata": {},
   "outputs": [
    {
     "data": {
      "text/plain": [
       "['Hello', 'world,', 'hello', 'again', 'world']"
      ]
     },
     "execution_count": 12,
     "metadata": {},
     "output_type": "execute_result"
    }
   ],
   "source": [
    "my_string = \"Hello world, hello again world\"\n",
    "my_string.split()"
   ]
  },
  {
   "cell_type": "code",
   "execution_count": 14,
   "id": "ebb9603a",
   "metadata": {},
   "outputs": [
    {
     "name": "stdout",
     "output_type": "stream",
     "text": [
      "{'Hello': 1, 'world,': 1, 'hello': 1, 'again': 1, 'world': 1}\n"
     ]
    }
   ],
   "source": [
    "my_string = \"Hello world, hello again world\"\n",
    "word_counts = {}\n",
    "for word in my_string.split():\n",
    "    if word in word_counts:\n",
    "        word_counts[word] +=1\n",
    "    else:\n",
    "        word_counts[word] = 1\n",
    "print(word_counts)"
   ]
  },
  {
   "cell_type": "code",
   "execution_count": 15,
   "id": "23404683",
   "metadata": {},
   "outputs": [
    {
     "name": "stdout",
     "output_type": "stream",
     "text": [
      "{'Hello': 1, 'world,': 1, 'hello': 1, 'again': 1, 'world': 1}\n"
     ]
    }
   ],
   "source": [
    "my_string = \"Hello world, hello again world\"\n",
    "word_counts = {}\n",
    "for word in my_string.split():\n",
    "    if word in word_counts:\n",
    "        word_counts[word] += 1\n",
    "    else:\n",
    "        word_counts[word] = 1\n",
    "print(word_counts)\n"
   ]
  },
  {
   "cell_type": "code",
   "execution_count": 23,
   "id": "46f5cfb9",
   "metadata": {},
   "outputs": [
    {
     "data": {
      "text/plain": [
       "{'apple': 10, 'banana': 5, 'orange': 20, 'grape': 3, 'mango': 9}"
      ]
     },
     "execution_count": 23,
     "metadata": {},
     "output_type": "execute_result"
    }
   ],
   "source": [
    "my_dict = {'apple': 10, 'banana': 5, 'orange': 20, 'grape': 3}\n",
    "my_dict.update(mango=5)\n",
    "my_dict['mango']=9\n",
    "my_dict"
   ]
  },
  {
   "cell_type": "code",
   "execution_count": 19,
   "id": "4f257968",
   "metadata": {},
   "outputs": [
    {
     "name": "stdout",
     "output_type": "stream",
     "text": [
      "{'apple': 5, 'orange': 20, 'grape': 3}\n"
     ]
    }
   ],
   "source": [
    "my_dict = {'apple': 10, 'banana': 5, 'orange': 20, 'grape': 3, 'apple': 5}\n",
    "unique_dict = {}\n",
    "for key, value in my_dict.items():\n",
    "    if value not in unique_dict.values():\n",
    "        unique_dict[key] = value\n",
    "print(unique_dict)\n"
   ]
  },
  {
   "cell_type": "code",
   "execution_count": 24,
   "id": "9680b7fc",
   "metadata": {},
   "outputs": [
    {
     "name": "stdout",
     "output_type": "stream",
     "text": [
      "{'apple': 10, 'banana': 5, 'orange': 20, 'grape': 3, 'mango': 5}\n"
     ]
    }
   ],
   "source": [
    "a = {'apple': 10, 'banana': 5, 'orange': 20, 'grape': 3, 'mango': 5}\n",
    "b = {}\n",
    "for key,value in a.items():\n",
    "    if value not in b:\n",
    "        b[key]=value\n",
    "print(b)"
   ]
  },
  {
   "cell_type": "code",
   "execution_count": null,
   "id": "a4411b24",
   "metadata": {},
   "outputs": [],
   "source": []
  }
 ],
 "metadata": {
  "kernelspec": {
   "display_name": "Python 3 (ipykernel)",
   "language": "python",
   "name": "python3"
  },
  "language_info": {
   "codemirror_mode": {
    "name": "ipython",
    "version": 3
   },
   "file_extension": ".py",
   "mimetype": "text/x-python",
   "name": "python",
   "nbconvert_exporter": "python",
   "pygments_lexer": "ipython3",
   "version": "3.9.13"
  }
 },
 "nbformat": 4,
 "nbformat_minor": 5
}
