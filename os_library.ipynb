{
 "cells": [
  {
   "cell_type": "code",
   "execution_count": 1,
   "id": "1a3f0e9a",
   "metadata": {},
   "outputs": [],
   "source": [
    "import os"
   ]
  },
  {
   "cell_type": "code",
   "execution_count": 2,
   "id": "3e1d9fb6",
   "metadata": {},
   "outputs": [
    {
     "name": "stdout",
     "output_type": "stream",
     "text": [
      "C:\\Users\\VijayAnand V\\python\n"
     ]
    }
   ],
   "source": [
    "cwd = os.getcwd()\n",
    "print(cwd)"
   ]
  },
  {
   "cell_type": "code",
   "execution_count": 18,
   "id": "ffce5acc",
   "metadata": {},
   "outputs": [
    {
     "name": "stdout",
     "output_type": "stream",
     "text": [
      "current working directory\n",
      "C:\\Users\\VijayAnand V\n",
      "current working directory\n",
      "C:\\Users\n"
     ]
    },
    {
     "data": {
      "text/plain": [
       "['All Users',\n",
       " 'Default',\n",
       " 'Default User',\n",
       " 'desktop.ini',\n",
       " 'Public',\n",
       " 'SYSCARE',\n",
       " 'VijayAnand V']"
      ]
     },
     "execution_count": 18,
     "metadata": {},
     "output_type": "execute_result"
    }
   ],
   "source": [
    "def change_dir():\n",
    "    print(\"current working directory\")\n",
    "    print(os.getcwd())\n",
    "    return\n",
    "change_dir()\n",
    "os.chdir('../')\n",
    "change_dir()\n",
    "os.listdir()"
   ]
  },
  {
   "cell_type": "code",
   "execution_count": 17,
   "id": "c73192b7",
   "metadata": {},
   "outputs": [
    {
     "ename": "SyntaxError",
     "evalue": "EOL while scanning string literal (491086139.py, line 3)",
     "output_type": "error",
     "traceback": [
      "\u001b[1;36m  File \u001b[1;32m\"C:\\Users\\VijayAnand V\\AppData\\Local\\Temp\\ipykernel_6612\\491086139.py\"\u001b[1;36m, line \u001b[1;32m3\u001b[0m\n\u001b[1;33m    present_dir = \"C:\\Users\\VijayAnand V\\\"\u001b[0m\n\u001b[1;37m                                          ^\u001b[0m\n\u001b[1;31mSyntaxError\u001b[0m\u001b[1;31m:\u001b[0m EOL while scanning string literal\n"
     ]
    }
   ],
   "source": [
    "def make_dir():\n",
    "    new_dir = \"os_lib\"\n",
    "    present_dir = \"C:\\Users\\VijayAnand V\\\"\n",
    "    path = os.path.join(present,new_dir)\n",
    "    os.mkdir(path)\n",
    "    return\n",
    "make_dir()"
   ]
  },
  {
   "cell_type": "code",
   "execution_count": 1,
   "id": "4a3d9f9c",
   "metadata": {},
   "outputs": [
    {
     "name": "stdout",
     "output_type": "stream",
     "text": [
      "46\n"
     ]
    }
   ],
   "source": [
    "a= [1,3,2,5,6,4,8,12,13,14,11]\n",
    "total = 0\n",
    "for i in range(len(a)):\n",
    "    if a[i]%2==0:\n",
    "        total +=a[i]\n",
    "print(total)\n",
    "        "
   ]
  },
  {
   "cell_type": "code",
   "execution_count": 6,
   "id": "50568973",
   "metadata": {},
   "outputs": [
    {
     "name": "stdout",
     "output_type": "stream",
     "text": [
      "[1, 2, 4, 5, 6, 11, 13]\n"
     ]
    }
   ],
   "source": [
    "b = [2,7,4,1,5,6,11,13]\n",
    "c = []\n",
    "for i in range(len(b)):\n",
    "    if b[i] in a:\n",
    "        c.append(b[i])\n",
    "print(sorted(c))"
   ]
  },
  {
   "cell_type": "code",
   "execution_count": 7,
   "id": "acd75892",
   "metadata": {},
   "outputs": [
    {
     "name": "stdout",
     "output_type": "stream",
     "text": [
      "vijayanand\n"
     ]
    }
   ],
   "source": [
    "a =[\"vijay\",\"anand\",\"vij\",\"anan\",\"vijayanand\"]\n",
    "b = \" \"\n",
    "for i in range(len(a)):\n",
    "    if len(a[i]) >len(b):\n",
    "        b = a[i]\n",
    "print(b)\n",
    "    "
   ]
  },
  {
   "cell_type": "code",
   "execution_count": 10,
   "id": "c3232fa0",
   "metadata": {},
   "outputs": [
    {
     "name": "stdout",
     "output_type": "stream",
     "text": [
      "not prime 6\n",
      "not prime 4\n",
      "not prime 8\n",
      "not prime 12\n",
      "not prime 14\n",
      "[1, 3, 2, 5, 13, 11, 31]\n"
     ]
    }
   ],
   "source": [
    "a= [1,3,2,5,6,4,8,12,13,14,11,31]\n",
    "c = []\n",
    "for i in range(len(a)):\n",
    "    for j in range(2,a[i]):\n",
    "        if a[i]%j == 0 :\n",
    "            print(\"not prime\",a[i])\n",
    "            break\n",
    "    else:\n",
    "        c.append(a[i])\n",
    "print(c)"
   ]
  },
  {
   "cell_type": "code",
   "execution_count": 12,
   "id": "89cc8b68",
   "metadata": {},
   "outputs": [
    {
     "data": {
      "text/plain": [
       "[2, 6, 4, 8, 12, 14, 1, 3, 5, 13, 11, 31]"
      ]
     },
     "execution_count": 12,
     "metadata": {},
     "output_type": "execute_result"
    }
   ],
   "source": [
    "s = sorted(a,key=lambda x:x%2!=0)\n",
    "s"
   ]
  },
  {
   "cell_type": "code",
   "execution_count": null,
   "id": "a8230096",
   "metadata": {},
   "outputs": [],
   "source": []
  }
 ],
 "metadata": {
  "kernelspec": {
   "display_name": "Python 3 (ipykernel)",
   "language": "python",
   "name": "python3"
  },
  "language_info": {
   "codemirror_mode": {
    "name": "ipython",
    "version": 3
   },
   "file_extension": ".py",
   "mimetype": "text/x-python",
   "name": "python",
   "nbconvert_exporter": "python",
   "pygments_lexer": "ipython3",
   "version": "3.9.13"
  }
 },
 "nbformat": 4,
 "nbformat_minor": 5
}
