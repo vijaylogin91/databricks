{
 "cells": [
  {
   "cell_type": "code",
   "execution_count": 1,
   "id": "cbbc67e9",
   "metadata": {},
   "outputs": [
    {
     "name": "stdout",
     "output_type": "stream",
     "text": [
      "blore\n"
     ]
    }
   ],
   "source": [
    "class vijay:\n",
    "    def __init__ (self,name,age,place):\n",
    "        \n",
    "        self.name = name\n",
    "        self.age = age\n",
    "        self.place = place\n",
    "        \n",
    "    def asd(self):\n",
    "        print(self.place)\n",
    "        return\n",
    "class anand(vijay):\n",
    "    pass\n",
    "    \n",
    "    \n",
    "#qwe = vijay(\"vijay\",31,\"salem\")\n",
    "#qwe.asd()\n",
    "#print(qwe.name)\n",
    "#print(qwe.age)\n",
    "zxc = anand(\"vijay\",31,\"salem\")\n",
    "vbn = anand(\"anand\",32,\"blore\")\n",
    "vbn.asd()\n"
   ]
  },
  {
   "cell_type": "code",
   "execution_count": 2,
   "id": "f345aaf4",
   "metadata": {},
   "outputs": [
    {
     "ename": "SyntaxError",
     "evalue": "invalid syntax (1529553732.py, line 12)",
     "output_type": "error",
     "traceback": [
      "\u001b[1;36m  File \u001b[1;32m\"C:\\Users\\VijayAnand V\\AppData\\Local\\Temp\\ipykernel_17604\\1529553732.py\"\u001b[1;36m, line \u001b[1;32m12\u001b[0m\n\u001b[1;33m    qwe =\u001b[0m\n\u001b[1;37m          ^\u001b[0m\n\u001b[1;31mSyntaxError\u001b[0m\u001b[1;31m:\u001b[0m invalid syntax\n"
     ]
    }
   ],
   "source": [
    "class vijay:\n",
    "    def __init__(self,proj,comp):\n",
    "        self.proj = proj\n",
    "        self.comp = comp\n",
    "    def comp(self):\n",
    "        if proj ==comp:\n",
    "            print(\"same\")\n",
    "        else:\n",
    "            print(\"different\")\n",
    "            \n",
    "        return\n",
    "qwe = \n",
    "        "
   ]
  },
  {
   "cell_type": "code",
   "execution_count": 3,
   "id": "f792b502",
   "metadata": {},
   "outputs": [
    {
     "name": "stdout",
     "output_type": "stream",
     "text": [
      "rose\n",
      "plesant\n"
     ]
    },
    {
     "data": {
      "text/plain": [
       "'plesant'"
      ]
     },
     "execution_count": 3,
     "metadata": {},
     "output_type": "execute_result"
    }
   ],
   "source": [
    "class flower:\n",
    "    def __init__(self,smell,color):\n",
    "        self.smell = smell\n",
    "        self.color = color\n",
    "    def rose(self,color):\n",
    "        print(self.color)\n",
    "        return\n",
    "    def sunflower(self):\n",
    "        print(self.smell)\n",
    "        return\n",
    "d = flower(\"plesant\",\"rose\")\n",
    "d.rose(\"white\")\n",
    "d.sunflower()\n",
    "d.smell\n",
    "        "
   ]
  },
  {
   "cell_type": "code",
   "execution_count": 4,
   "id": "55b61426",
   "metadata": {},
   "outputs": [
    {
     "name": "stdout",
     "output_type": "stream",
     "text": [
      "11\n",
      "18\n"
     ]
    }
   ],
   "source": [
    "class vijay:\n",
    "    def sample(self,a,b):\n",
    "        return print(a+b)\n",
    "    def mul(self,c,d):\n",
    "        return print(c*d)\n",
    "\n",
    "anand = vijay()\n",
    "anand.sample(5,6)\n",
    "anand.mul(3,6)"
   ]
  },
  {
   "cell_type": "code",
   "execution_count": 5,
   "id": "12e712d3",
   "metadata": {},
   "outputs": [
    {
     "name": "stdout",
     "output_type": "stream",
     "text": [
      "8\n"
     ]
    }
   ],
   "source": [
    "class maths():\n",
    "    r = 2\n",
    "    def __init__(self,pi,square):\n",
    "        self.pi =pi\n",
    "        self.square=square\n",
    "    def get_value(self):\n",
    "        print(self.pi*maths.r**2)\n",
    "        \n",
    "sub = maths(2,3)\n",
    "sub.get_value()"
   ]
  },
  {
   "cell_type": "code",
   "execution_count": 6,
   "id": "921fd320",
   "metadata": {},
   "outputs": [
    {
     "name": "stdout",
     "output_type": "stream",
     "text": [
      "12\n"
     ]
    }
   ],
   "source": [
    "class sub(maths):\n",
    "    def sub_class(self):\n",
    "        pass\n",
    "qwe = sub(3,2)\n",
    "qwe.get_value()"
   ]
  },
  {
   "cell_type": "markdown",
   "id": "3338ce9f",
   "metadata": {},
   "source": [
    "# inheritance"
   ]
  },
  {
   "cell_type": "code",
   "execution_count": 7,
   "id": "d2d18ac1",
   "metadata": {},
   "outputs": [
    {
     "name": "stdout",
     "output_type": "stream",
     "text": [
      "hello\n",
      "9\n",
      "56\n"
     ]
    }
   ],
   "source": [
    "class arith():\n",
    "    def __init__(self,a,b):\n",
    "        self.a = a\n",
    "        self.b = b\n",
    "        \n",
    "    def add(self):\n",
    "        print(self.a+self.b)\n",
    "        \n",
    "    def sub(self):\n",
    "        print(self.a-self.b)\n",
    "\n",
    "        \n",
    "class child(arith):\n",
    "    def __init__(self,a,b,c,d):\n",
    "        self.c = c\n",
    "        self.d = d\n",
    "        arith.__init__(self,a,b)\n",
    "        print(\"hello\")\n",
    "    \n",
    "    def mul(self):\n",
    "        print(self.c*self.d)\n",
    "asd = child(5,4,7,8)\n",
    "asd.add()\n",
    "asd.mul()\n",
    "        "
   ]
  },
  {
   "cell_type": "markdown",
   "id": "31321ac8",
   "metadata": {},
   "source": [
    "# multilevel inheritance"
   ]
  },
  {
   "cell_type": "code",
   "execution_count": 2,
   "id": "86b5905e",
   "metadata": {},
   "outputs": [
    {
     "data": {
      "text/plain": [
       "'vijay'"
      ]
     },
     "execution_count": 2,
     "metadata": {},
     "output_type": "execute_result"
    }
   ],
   "source": [
    "class A:\n",
    "    def __init__(self, name):\n",
    "        self.name = name\n",
    " \n",
    " \n",
    "class B(A):\n",
    "    def __init__(self, roll):\n",
    "        self.roll = roll\n",
    "        A.__init__(self,\"vijay\")\n",
    " \n",
    " \n",
    "class c(B):\n",
    "    def __init__(self,age):\n",
    "        self.age = age\n",
    "        B.__init__(self,25)\n",
    "obj = c(31)\n",
    "obj.name"
   ]
  },
  {
   "cell_type": "markdown",
   "id": "53588981",
   "metadata": {},
   "source": [
    "# multiple inheritance"
   ]
  },
  {
   "cell_type": "code",
   "execution_count": 3,
   "id": "9db20cc2",
   "metadata": {},
   "outputs": [
    {
     "name": "stdout",
     "output_type": "stream",
     "text": [
      "vijay 31 25\n",
      "6358.5\n"
     ]
    }
   ],
   "source": [
    "class base1():\n",
    "    r = 45\n",
    "    def __init__(self,name):\n",
    "        self.name = name\n",
    "        \n",
    "class base2():\n",
    "    pi = 3.14\n",
    "    def __init__(self,age):\n",
    "        self.age = age\n",
    "        \n",
    "class base(base1,base2):\n",
    "    \n",
    "    def __init__(self,roll):\n",
    "        self.roll = roll\n",
    "        base1.__init__(self,\"vijay\")\n",
    "        base2.__init__(self,31)\n",
    "    \n",
    "    def math(self):\n",
    "        print(self.name,self.age,self.roll)\n",
    "        print(base2.pi*base1.r**2)\n",
    "        return\n",
    "    \n",
    "obj = base(25)\n",
    "obj.math()"
   ]
  },
  {
   "cell_type": "code",
   "execution_count": 10,
   "id": "fefa5bc8",
   "metadata": {},
   "outputs": [
    {
     "name": "stdout",
     "output_type": "stream",
     "text": [
      "18.14\n",
      "9.8596\n"
     ]
    },
    {
     "data": {
      "text/plain": [
       "'vij'"
      ]
     },
     "execution_count": 10,
     "metadata": {},
     "output_type": "execute_result"
    }
   ],
   "source": [
    "class vijay:\n",
    "    pi = 3.14\n",
    "    def __init__(self,name,age):\n",
    "        self.name = name\n",
    "        self.age = age\n",
    "    def vija(self):\n",
    "        return print(8+7+vijay.pi)\n",
    "    \n",
    "    def math(self):\n",
    "        return print(self.pi * self.pi)\n",
    "asd = vijay('vij',31)\n",
    "\n",
    "asd.vija()\n",
    "asd.math()\n",
    "asd.name"
   ]
  },
  {
   "cell_type": "code",
   "execution_count": 11,
   "id": "3882a8f3",
   "metadata": {},
   "outputs": [
    {
     "data": {
      "text/plain": [
       "31"
      ]
     },
     "execution_count": 11,
     "metadata": {},
     "output_type": "execute_result"
    }
   ],
   "source": [
    "class anand(vijay):\n",
    "    def __init__(self,place):\n",
    "        self.place = place\n",
    "        vijay.__init__(self,\"vijay\",31)\n",
    "        \n",
    "qwe = anand('salem')\n",
    "qwe.age"
   ]
  },
  {
   "cell_type": "code",
   "execution_count": 2,
   "id": "9d10ffcd",
   "metadata": {},
   "outputs": [
    {
     "name": "stdout",
     "output_type": "stream",
     "text": [
      "8\n"
     ]
    }
   ],
   "source": [
    "class vijay():\n",
    "    def __init__(self,a,b):\n",
    "        self.a = a\n",
    "        self.b = b\n",
    "    def su(self):\n",
    "        \n",
    "        print(self.a+self.b)\n",
    "        return\n",
    "    \n",
    "obj = vijay(5,3)\n",
    "obj.su()"
   ]
  },
  {
   "cell_type": "code",
   "execution_count": 3,
   "id": "a5923d24",
   "metadata": {},
   "outputs": [],
   "source": [
    "class anand(vijay):\n",
    "    def __init__(self,c,d):\n",
    "        self.c = c\n",
    "        self.d = d\n",
    "        vijay.__init__(self,5,3)\n",
    "    def add(self):\n",
    "        print(self.a+self.c)\n",
    "asd = anand(6,5)\n",
    "    "
   ]
  },
  {
   "cell_type": "markdown",
   "id": "147c3f10",
   "metadata": {},
   "source": [
    "# multi level"
   ]
  },
  {
   "cell_type": "code",
   "execution_count": null,
   "id": "debfa1ee",
   "metadata": {},
   "outputs": [],
   "source": []
  }
 ],
 "metadata": {
  "kernelspec": {
   "display_name": "Python 3 (ipykernel)",
   "language": "python",
   "name": "python3"
  },
  "language_info": {
   "codemirror_mode": {
    "name": "ipython",
    "version": 3
   },
   "file_extension": ".py",
   "mimetype": "text/x-python",
   "name": "python",
   "nbconvert_exporter": "python",
   "pygments_lexer": "ipython3",
   "version": "3.9.13"
  }
 },
 "nbformat": 4,
 "nbformat_minor": 5
}
