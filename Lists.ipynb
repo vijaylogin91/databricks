{
 "cells": [
  {
   "cell_type": "markdown",
   "id": "07fbe8c8",
   "metadata": {},
   "source": [
    "# Write a function that takes a list of integers as input and returns the sum of the even numbers in the list."
   ]
  },
  {
   "cell_type": "code",
   "execution_count": 47,
   "id": "a69cb298",
   "metadata": {},
   "outputs": [],
   "source": [
    "a= [1,3,2,5,6,4,8,12,13,14,11]\n",
    "def inp_list(a):\n",
    "    \n",
    "    #total = 0\n",
    "    for i in a:\n",
    "        if i%2==0:\n",
    "            #total +=i\n",
    "            return #total\n",
    "\n",
    "#inp_list(a)"
   ]
  },
  {
   "cell_type": "markdown",
   "id": "966ce7a4",
   "metadata": {},
   "source": [
    "# list comprehension"
   ]
  },
  {
   "cell_type": "code",
   "execution_count": 31,
   "id": "b3f39180",
   "metadata": {},
   "outputs": [
    {
     "data": {
      "text/plain": [
       "[2, 4, 6, 8]"
      ]
     },
     "execution_count": 31,
     "metadata": {},
     "output_type": "execute_result"
    }
   ],
   "source": [
    "q = [i for i in a if i%2==0]\n",
    "q"
   ]
  },
  {
   "cell_type": "markdown",
   "id": "a7186275",
   "metadata": {},
   "source": [
    "# lambda, filter, map functions"
   ]
  },
  {
   "cell_type": "code",
   "execution_count": 48,
   "id": "d8b3a060",
   "metadata": {},
   "outputs": [
    {
     "ename": "TypeError",
     "evalue": "'int' object is not iterable",
     "output_type": "error",
     "traceback": [
      "\u001b[1;31m---------------------------------------------------------------------------\u001b[0m",
      "\u001b[1;31mTypeError\u001b[0m                                 Traceback (most recent call last)",
      "\u001b[1;32m~\\AppData\\Local\\Temp\\ipykernel_4512\\3294560025.py\u001b[0m in \u001b[0;36m<module>\u001b[1;34m\u001b[0m\n\u001b[0;32m      1\u001b[0m \u001b[0mb\u001b[0m\u001b[1;33m=\u001b[0m\u001b[0mlist\u001b[0m\u001b[1;33m(\u001b[0m\u001b[0mfilter\u001b[0m\u001b[1;33m(\u001b[0m\u001b[1;32mlambda\u001b[0m \u001b[0mx\u001b[0m \u001b[1;33m:\u001b[0m \u001b[0mx\u001b[0m\u001b[1;33m%\u001b[0m\u001b[1;36m2\u001b[0m \u001b[1;33m==\u001b[0m \u001b[1;36m0\u001b[0m \u001b[1;33m,\u001b[0m \u001b[0ma\u001b[0m\u001b[1;33m)\u001b[0m\u001b[1;33m)\u001b[0m\u001b[1;33m\u001b[0m\u001b[1;33m\u001b[0m\u001b[0m\n\u001b[0;32m      2\u001b[0m \u001b[0md\u001b[0m \u001b[1;33m=\u001b[0m \u001b[0mmap\u001b[0m\u001b[1;33m(\u001b[0m\u001b[0minp_list\u001b[0m\u001b[1;33m,\u001b[0m\u001b[0ma\u001b[0m\u001b[1;33m)\u001b[0m\u001b[1;33m\u001b[0m\u001b[1;33m\u001b[0m\u001b[0m\n\u001b[1;32m----> 3\u001b[1;33m \u001b[0mlist\u001b[0m\u001b[1;33m(\u001b[0m\u001b[0md\u001b[0m\u001b[1;33m)\u001b[0m\u001b[1;33m\u001b[0m\u001b[1;33m\u001b[0m\u001b[0m\n\u001b[0m",
      "\u001b[1;32m~\\AppData\\Local\\Temp\\ipykernel_4512\\2393094959.py\u001b[0m in \u001b[0;36minp_list\u001b[1;34m(a)\u001b[0m\n\u001b[0;32m      3\u001b[0m \u001b[1;33m\u001b[0m\u001b[0m\n\u001b[0;32m      4\u001b[0m     \u001b[1;31m#total = 0\u001b[0m\u001b[1;33m\u001b[0m\u001b[1;33m\u001b[0m\u001b[0m\n\u001b[1;32m----> 5\u001b[1;33m     \u001b[1;32mfor\u001b[0m \u001b[0mi\u001b[0m \u001b[1;32min\u001b[0m \u001b[0ma\u001b[0m\u001b[1;33m:\u001b[0m\u001b[1;33m\u001b[0m\u001b[1;33m\u001b[0m\u001b[0m\n\u001b[0m\u001b[0;32m      6\u001b[0m         \u001b[1;32mif\u001b[0m \u001b[0mi\u001b[0m\u001b[1;33m%\u001b[0m\u001b[1;36m2\u001b[0m\u001b[1;33m==\u001b[0m\u001b[1;36m0\u001b[0m\u001b[1;33m:\u001b[0m\u001b[1;33m\u001b[0m\u001b[1;33m\u001b[0m\u001b[0m\n\u001b[0;32m      7\u001b[0m             \u001b[1;31m#total +=i\u001b[0m\u001b[1;33m\u001b[0m\u001b[1;33m\u001b[0m\u001b[0m\n",
      "\u001b[1;31mTypeError\u001b[0m: 'int' object is not iterable"
     ]
    }
   ],
   "source": [
    "b=list(filter(lambda x : x%2 == 0 , a))\n",
    "d = map(inp_list,a)\n",
    "list(d)"
   ]
  },
  {
   "cell_type": "markdown",
   "id": "12881e99",
   "metadata": {},
   "source": [
    "# Write a function that takes two lists of integers as input and returns a list containing the common elements in both lists."
   ]
  },
  {
   "cell_type": "code",
   "execution_count": 27,
   "id": "7be86fea",
   "metadata": {},
   "outputs": [
    {
     "data": {
      "text/plain": [
       "[1, 3, 4, 5, 6, 7, 8]"
      ]
     },
     "execution_count": 27,
     "metadata": {},
     "output_type": "execute_result"
    }
   ],
   "source": [
    "def two_inp(a,b):\n",
    "    c = []\n",
    "    \n",
    "    for i in a:\n",
    "        if i in b:\n",
    "            c.append(i)\n",
    "    return c\n",
    "a = [1,2,3,4,5,6,7,8]\n",
    "b = [5,6,7,8,1,4,4,5,3]\n",
    "two_inp(a,b)"
   ]
  },
  {
   "cell_type": "markdown",
   "id": "2888f305",
   "metadata": {},
   "source": [
    "# Write a function that takes a list of integers as input and returns a new list containing the same elements in reverse order."
   ]
  },
  {
   "cell_type": "code",
   "execution_count": 62,
   "id": "1f25bfe0",
   "metadata": {},
   "outputs": [
    {
     "data": {
      "text/plain": [
       "[[5, 4, 3, 2, 1]]"
      ]
     },
     "execution_count": 62,
     "metadata": {},
     "output_type": "execute_result"
    }
   ],
   "source": [
    "def reverse_list(a):\n",
    "    b = a[::-1]\n",
    "    return [b]\n",
    "reverse_list(a)"
   ]
  },
  {
   "cell_type": "markdown",
   "id": "2024dc2d",
   "metadata": {},
   "source": [
    "# Write a function that takes a list of strings as input and returns the longest string in the list."
   ]
  },
  {
   "cell_type": "code",
   "execution_count": 49,
   "id": "9d5bd680",
   "metadata": {},
   "outputs": [
    {
     "data": {
      "text/plain": [
       "'vijayanand'"
      ]
     },
     "execution_count": 49,
     "metadata": {},
     "output_type": "execute_result"
    }
   ],
   "source": [
    "def longest_string(a):\n",
    "    \n",
    "    b = \"\"\n",
    "    for i in a:\n",
    "        if len(i) > len(b) :\n",
    "            b = i\n",
    "    return b\n",
    "a =[\"vijay\",\"anand\",\"vij\",\"anan\",\"vijayanand\"]\n",
    "b=longest_string(a)\n",
    "b\n",
    "    \n",
    "    "
   ]
  },
  {
   "cell_type": "markdown",
   "id": "dc2a8352",
   "metadata": {},
   "source": [
    "# Write a function that takes a list of integers as input and returns a new list containing only the prime numbers in the input list."
   ]
  },
  {
   "cell_type": "code",
   "execution_count": 66,
   "id": "910b088f",
   "metadata": {},
   "outputs": [
    {
     "name": "stdout",
     "output_type": "stream",
     "text": [
      "[1, 67, 89, 2, 7]\n"
     ]
    }
   ],
   "source": [
    "my_list = [1,4,67,89,34,56,2,6,7]\n",
    "ln = len(my_list)\n",
    "prime=[]\n",
    "for i in range(ln):\n",
    "    for j in range(2,my_list[i]):\n",
    "        if my_list[i]%j==0:\n",
    "            break\n",
    "    else:\n",
    "        prime.append(my_list[i])\n",
    "print(prime)\n",
    "        \n",
    "        "
   ]
  },
  {
   "cell_type": "markdown",
   "id": "681493bd",
   "metadata": {},
   "source": [
    "# Write a function that takes a list of strings as input and returns a new list containing only the strings that are palindromes."
   ]
  },
  {
   "cell_type": "code",
   "execution_count": 71,
   "id": "9534f3cf",
   "metadata": {},
   "outputs": [
    {
     "name": "stdout",
     "output_type": "stream",
     "text": [
      "['malayalam', 'eve', 'anna']\n"
     ]
    }
   ],
   "source": [
    "string = [\"malayalam\",\"eve\",\"vijay\",\"anand\",\"anna\"]\n",
    "str_list = []\n",
    "for i in range(len(string)):\n",
    "    if string[i]== string[i][::-1]:\n",
    "        str_list.append(string[i])\n",
    "print(str_list)\n",
    "        \n",
    "        "
   ]
  },
  {
   "cell_type": "markdown",
   "id": "7f4cf3e0",
   "metadata": {},
   "source": [
    "# Write a function that takes a list of integers as input and returns a new list containing only the numbers that are divisible by 3."
   ]
  },
  {
   "cell_type": "code",
   "execution_count": 78,
   "id": "f659c2d3",
   "metadata": {},
   "outputs": [
    {
     "name": "stdout",
     "output_type": "stream",
     "text": [
      "[3, 6, 9]\n"
     ]
    }
   ],
   "source": [
    "a = [1,2,3,4,5,6,7,8,9]\n",
    "div_3 = []\n",
    "for i in range(len(a)):\n",
    "    if a[i]%3==0:\n",
    "        div_3.append(a[i])\n",
    "print(div_3)\n",
    "    "
   ]
  },
  {
   "cell_type": "markdown",
   "id": "1b1575a7",
   "metadata": {},
   "source": [
    "# Write a function that takes a list of integers as input and returns the second largest element in the list."
   ]
  },
  {
   "cell_type": "code",
   "execution_count": 83,
   "id": "fa293335",
   "metadata": {},
   "outputs": [
    {
     "name": "stdout",
     "output_type": "stream",
     "text": [
      "[9]\n"
     ]
    }
   ],
   "source": [
    "a = [1,9,2,7,3,4,5,6,8]\n",
    "s= a[0]\n",
    "b = []\n",
    "for i in range(1,len(a)):\n",
    "    if a[i] > s:\n",
    "        s = a[i]\n",
    "        b.append(s)\n",
    "        print(b)\n",
    "        "
   ]
  },
  {
   "cell_type": "markdown",
   "id": "949d01f7",
   "metadata": {},
   "source": [
    "# sorting list"
   ]
  },
  {
   "cell_type": "code",
   "execution_count": 1,
   "id": "aca2c604",
   "metadata": {},
   "outputs": [
    {
     "name": "stdout",
     "output_type": "stream",
     "text": [
      "[1, 1, 2, 3, 3, 4, 5, 5, 5, 6, 9]\n"
     ]
    }
   ],
   "source": [
    "def bubble_sort(arr):\n",
    "    n = len(arr)\n",
    "    # Traverse through all array elements\n",
    "    for i in range(n):\n",
    "        # Last i elements are already sorted\n",
    "        for j in range(0, n-i-1):\n",
    "            # Swap if the element found is greater than the next element\n",
    "            if arr[j] > arr[j+1] :\n",
    "                arr[j], arr[j+1] = arr[j+1], arr[j]\n",
    "\n",
    "# Example usage\n",
    "my_list = [3, 1, 4, 1, 5, 9, 2, 6, 5, 3, 5]\n",
    "bubble_sort(my_list)\n",
    "print(my_list)\n"
   ]
  },
  {
   "cell_type": "code",
   "execution_count": 14,
   "id": "9a9660be",
   "metadata": {},
   "outputs": [
    {
     "name": "stdout",
     "output_type": "stream",
     "text": [
      "[[1, 1, 2, 3, 3, 4, 5, 5, 5, 6, 9]]\n"
     ]
    }
   ],
   "source": [
    "my_list = [3, 1, 4, 1, 5, 9, 2, 6, 5, 3, 5]\n",
    "b = len(my_list)\n",
    "c = []\n",
    "for i in range(b):\n",
    "    for j in range(0,b-i-1):\n",
    "        if my_list[j]>my_list[j+1]:\n",
    "            my_list[j],my_list[j+1]= my_list[j+1],my_list[j]\n",
    "c.append(my_list)\n",
    "print(c)\n",
    "        "
   ]
  },
  {
   "cell_type": "markdown",
   "id": "385331c6",
   "metadata": {},
   "source": [
    "# add on"
   ]
  },
  {
   "cell_type": "code",
   "execution_count": 29,
   "id": "5fd7de94",
   "metadata": {},
   "outputs": [
    {
     "name": "stdout",
     "output_type": "stream",
     "text": [
      "[('date', 3), ('banana', 5), ('apple', 10), ('elderberry', 15), ('cherry', 20)]\n"
     ]
    }
   ],
   "source": [
    "my_list = [('apple', 10), ('banana', 5), ('cherry', 20), ('date', 3), ('elderberry', 15)]\n",
    "sorted_list = sorted(my_list, key=lambda x: x[1])\n",
    "print(sorted_list)\n"
   ]
  },
  {
   "cell_type": "code",
   "execution_count": 32,
   "id": "93376d78",
   "metadata": {},
   "outputs": [
    {
     "name": "stdout",
     "output_type": "stream",
     "text": [
      "4\n",
      "2\n",
      "6\n"
     ]
    }
   ],
   "source": [
    "a = [3, 1, 4, 1, 5, 9, 2, 6, 5, 3, 5]\n",
    "for i in a:\n",
    "    if i%2==0:\n",
    "        print(i)"
   ]
  },
  {
   "cell_type": "code",
   "execution_count": 38,
   "id": "ff545e88",
   "metadata": {},
   "outputs": [
    {
     "name": "stdout",
     "output_type": "stream",
     "text": [
      "[1, 4, 9, 16, 25]\n"
     ]
    }
   ],
   "source": [
    "my_list = [1, 2, 3, 4, 5]\n",
    "\n",
    "def square(x):\n",
    "    return x**2\n",
    "\n",
    "squared_list = map(square, my_list)\n",
    "\n",
    "print(list(squared_list))\n"
   ]
  },
  {
   "cell_type": "code",
   "execution_count": 58,
   "id": "2e794aa2",
   "metadata": {},
   "outputs": [
    {
     "name": "stdout",
     "output_type": "stream",
     "text": [
      "[[5, 4, 3, 2, 1], [5, 4, 3, 2, 1], [5, 4, 3, 2, 1], [5, 4, 3, 2, 1], [5, 4, 3, 2, 1]]\n"
     ]
    }
   ],
   "source": [
    "\n",
    "def inp(a):\n",
    "    \n",
    "    return my_list[::-1]\n",
    "\n"
   ]
  },
  {
   "cell_type": "code",
   "execution_count": 61,
   "id": "1cf6a054",
   "metadata": {},
   "outputs": [
    {
     "ename": "TypeError",
     "evalue": "'int' object is not iterable",
     "output_type": "error",
     "traceback": [
      "\u001b[1;31m---------------------------------------------------------------------------\u001b[0m",
      "\u001b[1;31mTypeError\u001b[0m                                 Traceback (most recent call last)",
      "\u001b[1;32m~\\AppData\\Local\\Temp\\ipykernel_4512\\471420191.py\u001b[0m in \u001b[0;36m<module>\u001b[1;34m\u001b[0m\n\u001b[0;32m      9\u001b[0m             \u001b[1;32mreturn\u001b[0m \u001b[1;31m#total\u001b[0m\u001b[1;33m\u001b[0m\u001b[1;33m\u001b[0m\u001b[0m\n\u001b[0;32m     10\u001b[0m \u001b[0md\u001b[0m \u001b[1;33m=\u001b[0m \u001b[0mmap\u001b[0m\u001b[1;33m(\u001b[0m\u001b[0minp_list\u001b[0m\u001b[1;33m,\u001b[0m\u001b[0mb\u001b[0m\u001b[1;33m)\u001b[0m\u001b[1;33m\u001b[0m\u001b[1;33m\u001b[0m\u001b[0m\n\u001b[1;32m---> 11\u001b[1;33m \u001b[0mprint\u001b[0m\u001b[1;33m(\u001b[0m\u001b[0mlist\u001b[0m\u001b[1;33m(\u001b[0m\u001b[0md\u001b[0m\u001b[1;33m)\u001b[0m\u001b[1;33m)\u001b[0m\u001b[1;33m\u001b[0m\u001b[1;33m\u001b[0m\u001b[0m\n\u001b[0m",
      "\u001b[1;32m~\\AppData\\Local\\Temp\\ipykernel_4512\\471420191.py\u001b[0m in \u001b[0;36minp_list\u001b[1;34m(a)\u001b[0m\n\u001b[0;32m      4\u001b[0m \u001b[1;33m\u001b[0m\u001b[0m\n\u001b[0;32m      5\u001b[0m     \u001b[1;31m#total = 0\u001b[0m\u001b[1;33m\u001b[0m\u001b[1;33m\u001b[0m\u001b[0m\n\u001b[1;32m----> 6\u001b[1;33m     \u001b[1;32mfor\u001b[0m \u001b[0mi\u001b[0m \u001b[1;32min\u001b[0m \u001b[0ma\u001b[0m\u001b[1;33m:\u001b[0m\u001b[1;33m\u001b[0m\u001b[1;33m\u001b[0m\u001b[0m\n\u001b[0m\u001b[0;32m      7\u001b[0m         \u001b[1;32mif\u001b[0m \u001b[0mi\u001b[0m\u001b[1;33m%\u001b[0m\u001b[1;36m2\u001b[0m\u001b[1;33m==\u001b[0m\u001b[1;36m0\u001b[0m\u001b[1;33m:\u001b[0m\u001b[1;33m\u001b[0m\u001b[1;33m\u001b[0m\u001b[0m\n\u001b[0;32m      8\u001b[0m             \u001b[1;31m#total +=i\u001b[0m\u001b[1;33m\u001b[0m\u001b[1;33m\u001b[0m\u001b[0m\n",
      "\u001b[1;31mTypeError\u001b[0m: 'int' object is not iterable"
     ]
    }
   ],
   "source": [
    "b =[1, 2, 3, 4, 5]\n",
    "#a= [1,3,2,5,6,4,8,12,13,14,11]\n",
    "def inp_list(a):\n",
    "    \n",
    "    #total = 0\n",
    "    for i in a:\n",
    "        if i%2==0:\n",
    "            #total +=i\n",
    "            return #total\n",
    "d = map(inp_list,b)\n",
    "print(list(d))"
   ]
  },
  {
   "cell_type": "code",
   "execution_count": null,
   "id": "9757d351",
   "metadata": {},
   "outputs": [],
   "source": []
  }
 ],
 "metadata": {
  "kernelspec": {
   "display_name": "Python 3 (ipykernel)",
   "language": "python",
   "name": "python3"
  },
  "language_info": {
   "codemirror_mode": {
    "name": "ipython",
    "version": 3
   },
   "file_extension": ".py",
   "mimetype": "text/x-python",
   "name": "python",
   "nbconvert_exporter": "python",
   "pygments_lexer": "ipython3",
   "version": "3.9.13"
  }
 },
 "nbformat": 4,
 "nbformat_minor": 5
}
