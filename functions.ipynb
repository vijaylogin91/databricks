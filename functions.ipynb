{
 "cells": [
  {
   "cell_type": "code",
   "execution_count": 5,
   "id": "70c17afc",
   "metadata": {},
   "outputs": [
    {
     "name": "stdout",
     "output_type": "stream",
     "text": [
      "welcome\n",
      "new joinee\n",
      "associate\n"
     ]
    }
   ],
   "source": [
    "def this_is_dec(tcs):\n",
    "    def inner():\n",
    "        print(\"welcome\")\n",
    "        tcs()\n",
    "        print(\"associate\")\n",
    "    return inner\n",
    "@this_is_dec\n",
    "def asset():\n",
    "    print(\"new joinee\")\n",
    "asset()\n",
    "    "
   ]
  },
  {
   "cell_type": "code",
   "execution_count": 1,
   "id": "5e82e302",
   "metadata": {},
   "outputs": [],
   "source": [
    "def func():\n",
    "    pass"
   ]
  },
  {
   "cell_type": "code",
   "execution_count": 2,
   "id": "a39f22fe",
   "metadata": {},
   "outputs": [],
   "source": [
    "def fun1(a,b):\n",
    "    c = a+b\n",
    "    return c"
   ]
  },
  {
   "cell_type": "code",
   "execution_count": 3,
   "id": "bf920a8a",
   "metadata": {},
   "outputs": [
    {
     "data": {
      "text/plain": [
       "5"
      ]
     },
     "execution_count": 3,
     "metadata": {},
     "output_type": "execute_result"
    }
   ],
   "source": [
    "fun1(2,3)"
   ]
  },
  {
   "cell_type": "code",
   "execution_count": 7,
   "id": "e304d7e8",
   "metadata": {},
   "outputs": [
    {
     "name": "stdout",
     "output_type": "stream",
     "text": [
      "30\n"
     ]
    }
   ],
   "source": [
    "def outer_fun(a,b,c):\n",
    "    def inner_func():\n",
    "        print(a*b*c)\n",
    "    inner_func()\n",
    "outer_fun(2,5,3)"
   ]
  },
  {
   "cell_type": "code",
   "execution_count": 8,
   "id": "c0e51377",
   "metadata": {},
   "outputs": [
    {
     "data": {
      "text/plain": [
       "5"
      ]
     },
     "execution_count": 8,
     "metadata": {},
     "output_type": "execute_result"
    }
   ],
   "source": [
    "def max1(a,b,c):\n",
    "    def max2(x,y):\n",
    "        return x if x>y else y\n",
    "    return max2(a,max2(b,c))\n",
    "max1(3,5,4)\n"
   ]
  },
  {
   "cell_type": "code",
   "execution_count": 10,
   "id": "c21f2981",
   "metadata": {},
   "outputs": [
    {
     "name": "stdout",
     "output_type": "stream",
     "text": [
      "hey\n",
      "learn dec\n",
      "hello\n"
     ]
    }
   ],
   "source": [
    "def dec(func):\n",
    "    print(\"hey\")\n",
    "    def indec():\n",
    "        func()\n",
    "        print(\"hello\")\n",
    "    return indec\n",
    "@dec\n",
    "def dec1():\n",
    "    print(\"learn dec\")\n",
    "#dec1 = dec(dec1)\n",
    "dec1()"
   ]
  },
  {
   "cell_type": "code",
   "execution_count": 8,
   "id": "74af413a",
   "metadata": {},
   "outputs": [
    {
     "name": "stdout",
     "output_type": "stream",
     "text": [
      "15\n"
     ]
    }
   ],
   "source": [
    "def vari():\n",
    "    a = 5\n",
    "    b = 10\n",
    "    def sim():\n",
    "        \n",
    "        print(a+b)\n",
    "    return sim()\n",
    "vari()\n"
   ]
  },
  {
   "cell_type": "code",
   "execution_count": 4,
   "id": "fc840a6d",
   "metadata": {},
   "outputs": [
    {
     "name": "stdout",
     "output_type": "stream",
     "text": [
      "15 5\n",
      "3\n",
      "75\n"
     ]
    }
   ],
   "source": [
    "a = 15\n",
    "b = 5\n",
    "def dec(ref):\n",
    "    print(a,b)\n",
    "    \n",
    "    def outer_func():\n",
    "        ref()\n",
    "        print(a*b)\n",
    "    return outer_func\n",
    "@dec\n",
    "    \n",
    "def inner_func():\n",
    "   \n",
    "    print( a//b)\n",
    "inner_func()"
   ]
  },
  {
   "cell_type": "code",
   "execution_count": 12,
   "id": "f00011a0",
   "metadata": {},
   "outputs": [
    {
     "name": "stdout",
     "output_type": "stream",
     "text": [
      "30\n",
      "11\n"
     ]
    }
   ],
   "source": [
    "def out_dec(func):\n",
    "    print(5*6)\n",
    "    def in_dec():\n",
    "        func()\n",
    "    return in_dec\n",
    "@out_dec\n",
    "def dec():\n",
    "    print(5+6)\n",
    "dec()"
   ]
  },
  {
   "cell_type": "code",
   "execution_count": 2,
   "id": "712024a2",
   "metadata": {},
   "outputs": [
    {
     "name": "stdout",
     "output_type": "stream",
     "text": [
      "hi\n",
      "wanna\n",
      "bye\n"
     ]
    }
   ],
   "source": [
    "def outer(new):\n",
    "    def inner():\n",
    "        print(\"hi\")\n",
    "        new()\n",
    "        print(\"bye\")\n",
    "    return inner\n",
    "@outer\n",
    "def betw():\n",
    "    print(\"wanna\")\n",
    "betw()"
   ]
  },
  {
   "cell_type": "code",
   "execution_count": 3,
   "id": "76fa256c",
   "metadata": {},
   "outputs": [
    {
     "name": "stdout",
     "output_type": "stream",
     "text": [
      "Balanced\n",
      "Not Balanced\n"
     ]
    }
   ],
   "source": [
    "# Python3 program for the above approach\n",
    "\n",
    "# Function to check if\n",
    "# parenthesis are balanced\n",
    "def isBalanced(exp):\n",
    "\n",
    "\t# Initialising Variables\n",
    "\tflag = True\n",
    "\tcount = 0\n",
    "\n",
    "\t# Traversing the Expression\n",
    "\tfor i in range(len(exp)):\n",
    "\t\tif (exp[i] == '('):\n",
    "\t\t\tcount += 1\n",
    "\t\telse:\n",
    "\t\t\t\n",
    "\t\t\t# It is a closing parenthesis\n",
    "\t\t\tcount -= 1\n",
    "\n",
    "\t\tif (count < 0):\n",
    "\n",
    "\t\t\t# This means there are\n",
    "\t\t\t# more closing parenthesis\n",
    "\t\t\t# than opening\n",
    "\t\t\tflag = False\n",
    "\t\t\tbreak\n",
    "\n",
    "\t# If count is not zero ,\n",
    "\t# it means there are more\n",
    "\t# opening parenthesis\n",
    "\tif (count != 0):\n",
    "\t\tflag = False\n",
    "\n",
    "\treturn flag\n",
    "\n",
    "# Driver code\n",
    "if __name__ == '__main__':\n",
    "\t\n",
    "\n",
    "\texp1 = \"((()))()()\"\n",
    "\n",
    "\tif (isBalanced(exp1)):\n",
    "\t\tprint(\"Balanced\")\n",
    "\telse:\n",
    "\t\tprint(\"Not Balanced\")\n",
    "\n",
    "\texp2 = \"())((())\"\n",
    "\n",
    "\tif (isBalanced(exp2)):\n",
    "\t\tprint(\"Balanced\")\n",
    "\telse:\n",
    "\t\tprint(\"Not Balanced\")\n",
    "\n",
    "# This code is contributed by himanshu77\n"
   ]
  },
  {
   "cell_type": "code",
   "execution_count": null,
   "id": "2c86ca3f",
   "metadata": {},
   "outputs": [],
   "source": []
  }
 ],
 "metadata": {
  "kernelspec": {
   "display_name": "Python 3 (ipykernel)",
   "language": "python",
   "name": "python3"
  },
  "language_info": {
   "codemirror_mode": {
    "name": "ipython",
    "version": 3
   },
   "file_extension": ".py",
   "mimetype": "text/x-python",
   "name": "python",
   "nbconvert_exporter": "python",
   "pygments_lexer": "ipython3",
   "version": "3.9.13"
  }
 },
 "nbformat": 4,
 "nbformat_minor": 5
}
