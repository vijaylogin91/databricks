{
 "cells": [
  {
   "cell_type": "code",
   "execution_count": 1,
   "id": "090ab16f",
   "metadata": {},
   "outputs": [],
   "source": [
    "import sys"
   ]
  },
  {
   "cell_type": "code",
   "execution_count": 2,
   "id": "10bbbe62",
   "metadata": {},
   "outputs": [
    {
     "name": "stdout",
     "output_type": "stream",
     "text": [
      "3\n"
     ]
    }
   ],
   "source": [
    "print(len(sys.argv))"
   ]
  },
  {
   "cell_type": "code",
   "execution_count": 3,
   "id": "1ccbdaf8",
   "metadata": {},
   "outputs": [
    {
     "name": "stdout",
     "output_type": "stream",
     "text": [
      "C:\\Users\\VijayAnand V\\anaconda3\\lib\\site-packages\\ipykernel_launcher.py\n"
     ]
    }
   ],
   "source": [
    "print(sys.argv[0])"
   ]
  },
  {
   "cell_type": "code",
   "execution_count": 4,
   "id": "97e0b4dc",
   "metadata": {},
   "outputs": [
    {
     "name": "stdout",
     "output_type": "stream",
     "text": [
      "['C:\\\\Users\\\\VijayAnand V\\\\python', 'C:\\\\Users\\\\VijayAnand V\\\\anaconda3\\\\python39.zip', 'C:\\\\Users\\\\VijayAnand V\\\\anaconda3\\\\DLLs', 'C:\\\\Users\\\\VijayAnand V\\\\anaconda3\\\\lib', 'C:\\\\Users\\\\VijayAnand V\\\\anaconda3', '', 'C:\\\\Users\\\\VijayAnand V\\\\anaconda3\\\\lib\\\\site-packages', 'C:\\\\Users\\\\VijayAnand V\\\\anaconda3\\\\lib\\\\site-packages\\\\win32', 'C:\\\\Users\\\\VijayAnand V\\\\anaconda3\\\\lib\\\\site-packages\\\\win32\\\\lib', 'C:\\\\Users\\\\VijayAnand V\\\\anaconda3\\\\lib\\\\site-packages\\\\Pythonwin', 'C:\\\\Users\\\\VijayAnand V\\\\anaconda3\\\\lib\\\\site-packages\\\\IPython\\\\extensions', 'C:\\\\Users\\\\VijayAnand V\\\\.ipython']\n"
     ]
    }
   ],
   "source": [
    "print(sys.path)"
   ]
  },
  {
   "cell_type": "code",
   "execution_count": 16,
   "id": "9af6174e",
   "metadata": {},
   "outputs": [
    {
     "name": "stdout",
     "output_type": "stream",
     "text": [
      "[17]\n",
      "[42]\n",
      "[108]\n",
      "[25]\n",
      "[75]\n"
     ]
    }
   ],
   "source": [
    "lis = [\"dfg\",\"asdr\",\"qwerty\",\"cabdej\"]\n",
    "size = []\n",
    "for num in lis:\n",
    "    size.append(len(num))\n",
    "    val = []\n",
    "    inc = 0\n",
    "    for i in num:\n",
    "        j=ord(i)-96\n",
    "        inc +=j\n",
    "    val.append(inc)\n",
    "    print(val)\n",
    "length = []\n",
    "for l in range(len(val)):\n",
    "    length.append(size[l]*val[l])\n",
    "print(length)\n",
    "    \n",
    "        \n",
    "        \n",
    "        "
   ]
  },
  {
   "cell_type": "code",
   "execution_count": null,
   "id": "83400199",
   "metadata": {},
   "outputs": [],
   "source": []
  }
 ],
 "metadata": {
  "kernelspec": {
   "display_name": "Python 3 (ipykernel)",
   "language": "python",
   "name": "python3"
  },
  "language_info": {
   "codemirror_mode": {
    "name": "ipython",
    "version": 3
   },
   "file_extension": ".py",
   "mimetype": "text/x-python",
   "name": "python",
   "nbconvert_exporter": "python",
   "pygments_lexer": "ipython3",
   "version": "3.9.13"
  }
 },
 "nbformat": 4,
 "nbformat_minor": 5
}
